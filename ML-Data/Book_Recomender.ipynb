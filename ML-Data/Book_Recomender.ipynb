{
  "cells": [
    {
      "cell_type": "markdown",
      "metadata": {
        "id": "jfJH_wJKMIj7"
      },
      "source": [
        "# **Import Library**"
      ]
    },
    {
      "cell_type": "code",
      "execution_count": 1,
      "metadata": {
        "id": "lCFIAm_zV7zK"
      },
      "outputs": [],
      "source": [
        "import pandas as pd\n",
        "import seaborn as sns\n",
        "import matplotlib.pyplot as plt\n",
        "import zipfile\n",
        "import tensorflow as tf\n",
        "from tensorflow import keras\n",
        "from tensorflow.keras import layers\n",
        "from tensorflow.keras.models import Model, Sequential  # Correct import\n",
        "from pathlib import Path"
      ]
    },
    {
      "cell_type": "markdown",
      "metadata": {
        "id": "mD2U6azboa9K"
      },
      "source": [
        "# **Load Dataset**"
      ]
    },
    {
      "cell_type": "code",
      "execution_count": 2,
      "metadata": {
        "id": "nOjDN9k1YN9M",
        "colab": {
          "base_uri": "https://localhost:8080/"
        },
        "outputId": "0f750343-4cd0-4ecd-aacc-d9adf2530e12"
      },
      "outputs": [
        {
          "output_type": "stream",
          "name": "stdout",
          "text": [
            "Mounted at /content/drive\n",
            "Dataset loaded successfully.\n"
          ]
        }
      ],
      "source": [
        "# Load merged dataset lokal\n",
        "# merged_df = pd.read_csv(\"merged_books_ratings.csv\")\n",
        "\n",
        "from google.colab import drive\n",
        "drive.mount('/content/drive')\n",
        "\n",
        "# Path dataset di Google Drive\n",
        "file_path = \"/content/drive/MyDrive/Dataset/merged_books_ratings.csv\"\n",
        "\n",
        "# Load merged dataset\n",
        "try:\n",
        "  merged_df = pd.read_csv(file_path)\n",
        "  print(\"Dataset loaded successfully.\")\n",
        "except FileNotFoundError:\n",
        "  print(f\"Error: File not found at {file_path}. Please check the file path.\")\n",
        "except pd.errors.ParserError:\n",
        "  print(f\"Error: Could not parse the file at {file_path}. Please check the file format.\")\n",
        "except Exception as e:\n",
        "  print(f\"An unexpected error occurred: {e}\")"
      ]
    },
    {
      "cell_type": "code",
      "source": [
        "print(merged_df.head())  # Melihat beberapa baris pertama\n",
        "print(merged_df.columns)  # Melihat nama kolom\n"
      ],
      "metadata": {
        "colab": {
          "base_uri": "https://localhost:8080/"
        },
        "id": "AjVS4Kf-sPlm",
        "outputId": "32b59cd1-4657-4f1c-e620-8ff22ea74d9a"
      },
      "execution_count": 3,
      "outputs": [
        {
          "output_type": "stream",
          "name": "stdout",
          "text": [
            "                            Title  \\\n",
            "0  Its Only Art If Its Well Hung!   \n",
            "1        Dr. Seuss: American Icon   \n",
            "2        Dr. Seuss: American Icon   \n",
            "3        Dr. Seuss: American Icon   \n",
            "4        Dr. Seuss: American Icon   \n",
            "\n",
            "                                         description           authors  \\\n",
            "0                                            unknown  ['Julie Strain']   \n",
            "1  Philip Nel takes a fascinating look into the k...    ['Philip Nel']   \n",
            "2  Philip Nel takes a fascinating look into the k...    ['Philip Nel']   \n",
            "3  Philip Nel takes a fascinating look into the k...    ['Philip Nel']   \n",
            "4  Philip Nel takes a fascinating look into the k...    ['Philip Nel']   \n",
            "\n",
            "                                               image  publisher publishedDate  \\\n",
            "0  http://books.google.com/books/content?id=DykPA...    unknown          1996   \n",
            "1  http://books.google.com/books/content?id=IjvHQ...  A&C Black    2005-01-01   \n",
            "2  http://books.google.com/books/content?id=IjvHQ...  A&C Black    2005-01-01   \n",
            "3  http://books.google.com/books/content?id=IjvHQ...  A&C Black    2005-01-01   \n",
            "4  http://books.google.com/books/content?id=IjvHQ...  A&C Black    2005-01-01   \n",
            "\n",
            "  general_category          Id         User_id  \\\n",
            "0          fiction  1882931173   AVCGYZL8FQQTD   \n",
            "1      non-fiction  0826414346  A30TK6U7DNS82R   \n",
            "2      non-fiction  0826414346  A3UH4UZ4RSVO82   \n",
            "3      non-fiction  0826414346  A2MVUWT453QH61   \n",
            "4      non-fiction  0826414346  A22X4XUPKF66MR   \n",
            "\n",
            "                          profileName  review/score  \n",
            "0               Jim of Oz \"jim-of-oz\"           4.0  \n",
            "1                       Kevin Killian           5.0  \n",
            "2                        John Granger           5.0  \n",
            "3  Roy E. Perry \"amateur philosopher\"           4.0  \n",
            "4     D. H. Richards \"ninthwavestore\"           4.0  \n",
            "Index(['Title', 'description', 'authors', 'image', 'publisher',\n",
            "       'publishedDate', 'general_category', 'Id', 'User_id', 'profileName',\n",
            "       'review/score'],\n",
            "      dtype='object')\n"
          ]
        }
      ]
    },
    {
      "cell_type": "markdown",
      "metadata": {
        "id": "WeJyvuctYg2H"
      },
      "source": [
        "# **Rating Data Filter**"
      ]
    },
    {
      "cell_type": "code",
      "execution_count": 4,
      "metadata": {
        "colab": {
          "base_uri": "https://localhost:8080/",
          "height": 0
        },
        "id": "tIwEO6XRYpuW",
        "outputId": "f3f29d78-bccd-4782-ef57-1802179eabd0"
      },
      "outputs": [
        {
          "output_type": "execute_result",
          "data": {
            "text/plain": [
              "                            Title  \\\n",
              "0  Its Only Art If Its Well Hung!   \n",
              "1        Dr. Seuss: American Icon   \n",
              "2        Dr. Seuss: American Icon   \n",
              "3        Dr. Seuss: American Icon   \n",
              "4        Dr. Seuss: American Icon   \n",
              "\n",
              "                                         description           authors  \\\n",
              "0                                            unknown  ['Julie Strain']   \n",
              "1  Philip Nel takes a fascinating look into the k...    ['Philip Nel']   \n",
              "2  Philip Nel takes a fascinating look into the k...    ['Philip Nel']   \n",
              "3  Philip Nel takes a fascinating look into the k...    ['Philip Nel']   \n",
              "4  Philip Nel takes a fascinating look into the k...    ['Philip Nel']   \n",
              "\n",
              "                                               image  publisher publishedDate  \\\n",
              "0  http://books.google.com/books/content?id=DykPA...    unknown          1996   \n",
              "1  http://books.google.com/books/content?id=IjvHQ...  A&C Black    2005-01-01   \n",
              "2  http://books.google.com/books/content?id=IjvHQ...  A&C Black    2005-01-01   \n",
              "3  http://books.google.com/books/content?id=IjvHQ...  A&C Black    2005-01-01   \n",
              "4  http://books.google.com/books/content?id=IjvHQ...  A&C Black    2005-01-01   \n",
              "\n",
              "  general_category          Id         User_id  \\\n",
              "0          fiction  1882931173   AVCGYZL8FQQTD   \n",
              "1      non-fiction  0826414346  A30TK6U7DNS82R   \n",
              "2      non-fiction  0826414346  A3UH4UZ4RSVO82   \n",
              "3      non-fiction  0826414346  A2MVUWT453QH61   \n",
              "4      non-fiction  0826414346  A22X4XUPKF66MR   \n",
              "\n",
              "                          profileName  review/score  \n",
              "0               Jim of Oz \"jim-of-oz\"           4.0  \n",
              "1                       Kevin Killian           5.0  \n",
              "2                        John Granger           5.0  \n",
              "3  Roy E. Perry \"amateur philosopher\"           4.0  \n",
              "4     D. H. Richards \"ninthwavestore\"           4.0  "
            ],
            "text/html": [
              "\n",
              "  <div id=\"df-911b90d4-a9cd-4609-9c68-f1169ea2cb20\" class=\"colab-df-container\">\n",
              "    <div>\n",
              "<style scoped>\n",
              "    .dataframe tbody tr th:only-of-type {\n",
              "        vertical-align: middle;\n",
              "    }\n",
              "\n",
              "    .dataframe tbody tr th {\n",
              "        vertical-align: top;\n",
              "    }\n",
              "\n",
              "    .dataframe thead th {\n",
              "        text-align: right;\n",
              "    }\n",
              "</style>\n",
              "<table border=\"1\" class=\"dataframe\">\n",
              "  <thead>\n",
              "    <tr style=\"text-align: right;\">\n",
              "      <th></th>\n",
              "      <th>Title</th>\n",
              "      <th>description</th>\n",
              "      <th>authors</th>\n",
              "      <th>image</th>\n",
              "      <th>publisher</th>\n",
              "      <th>publishedDate</th>\n",
              "      <th>general_category</th>\n",
              "      <th>Id</th>\n",
              "      <th>User_id</th>\n",
              "      <th>profileName</th>\n",
              "      <th>review/score</th>\n",
              "    </tr>\n",
              "  </thead>\n",
              "  <tbody>\n",
              "    <tr>\n",
              "      <th>0</th>\n",
              "      <td>Its Only Art If Its Well Hung!</td>\n",
              "      <td>unknown</td>\n",
              "      <td>['Julie Strain']</td>\n",
              "      <td>http://books.google.com/books/content?id=DykPA...</td>\n",
              "      <td>unknown</td>\n",
              "      <td>1996</td>\n",
              "      <td>fiction</td>\n",
              "      <td>1882931173</td>\n",
              "      <td>AVCGYZL8FQQTD</td>\n",
              "      <td>Jim of Oz \"jim-of-oz\"</td>\n",
              "      <td>4.0</td>\n",
              "    </tr>\n",
              "    <tr>\n",
              "      <th>1</th>\n",
              "      <td>Dr. Seuss: American Icon</td>\n",
              "      <td>Philip Nel takes a fascinating look into the k...</td>\n",
              "      <td>['Philip Nel']</td>\n",
              "      <td>http://books.google.com/books/content?id=IjvHQ...</td>\n",
              "      <td>A&amp;C Black</td>\n",
              "      <td>2005-01-01</td>\n",
              "      <td>non-fiction</td>\n",
              "      <td>0826414346</td>\n",
              "      <td>A30TK6U7DNS82R</td>\n",
              "      <td>Kevin Killian</td>\n",
              "      <td>5.0</td>\n",
              "    </tr>\n",
              "    <tr>\n",
              "      <th>2</th>\n",
              "      <td>Dr. Seuss: American Icon</td>\n",
              "      <td>Philip Nel takes a fascinating look into the k...</td>\n",
              "      <td>['Philip Nel']</td>\n",
              "      <td>http://books.google.com/books/content?id=IjvHQ...</td>\n",
              "      <td>A&amp;C Black</td>\n",
              "      <td>2005-01-01</td>\n",
              "      <td>non-fiction</td>\n",
              "      <td>0826414346</td>\n",
              "      <td>A3UH4UZ4RSVO82</td>\n",
              "      <td>John Granger</td>\n",
              "      <td>5.0</td>\n",
              "    </tr>\n",
              "    <tr>\n",
              "      <th>3</th>\n",
              "      <td>Dr. Seuss: American Icon</td>\n",
              "      <td>Philip Nel takes a fascinating look into the k...</td>\n",
              "      <td>['Philip Nel']</td>\n",
              "      <td>http://books.google.com/books/content?id=IjvHQ...</td>\n",
              "      <td>A&amp;C Black</td>\n",
              "      <td>2005-01-01</td>\n",
              "      <td>non-fiction</td>\n",
              "      <td>0826414346</td>\n",
              "      <td>A2MVUWT453QH61</td>\n",
              "      <td>Roy E. Perry \"amateur philosopher\"</td>\n",
              "      <td>4.0</td>\n",
              "    </tr>\n",
              "    <tr>\n",
              "      <th>4</th>\n",
              "      <td>Dr. Seuss: American Icon</td>\n",
              "      <td>Philip Nel takes a fascinating look into the k...</td>\n",
              "      <td>['Philip Nel']</td>\n",
              "      <td>http://books.google.com/books/content?id=IjvHQ...</td>\n",
              "      <td>A&amp;C Black</td>\n",
              "      <td>2005-01-01</td>\n",
              "      <td>non-fiction</td>\n",
              "      <td>0826414346</td>\n",
              "      <td>A22X4XUPKF66MR</td>\n",
              "      <td>D. H. Richards \"ninthwavestore\"</td>\n",
              "      <td>4.0</td>\n",
              "    </tr>\n",
              "  </tbody>\n",
              "</table>\n",
              "</div>\n",
              "    <div class=\"colab-df-buttons\">\n",
              "\n",
              "  <div class=\"colab-df-container\">\n",
              "    <button class=\"colab-df-convert\" onclick=\"convertToInteractive('df-911b90d4-a9cd-4609-9c68-f1169ea2cb20')\"\n",
              "            title=\"Convert this dataframe to an interactive table.\"\n",
              "            style=\"display:none;\">\n",
              "\n",
              "  <svg xmlns=\"http://www.w3.org/2000/svg\" height=\"24px\" viewBox=\"0 -960 960 960\">\n",
              "    <path d=\"M120-120v-720h720v720H120Zm60-500h600v-160H180v160Zm220 220h160v-160H400v160Zm0 220h160v-160H400v160ZM180-400h160v-160H180v160Zm440 0h160v-160H620v160ZM180-180h160v-160H180v160Zm440 0h160v-160H620v160Z\"/>\n",
              "  </svg>\n",
              "    </button>\n",
              "\n",
              "  <style>\n",
              "    .colab-df-container {\n",
              "      display:flex;\n",
              "      gap: 12px;\n",
              "    }\n",
              "\n",
              "    .colab-df-convert {\n",
              "      background-color: #E8F0FE;\n",
              "      border: none;\n",
              "      border-radius: 50%;\n",
              "      cursor: pointer;\n",
              "      display: none;\n",
              "      fill: #1967D2;\n",
              "      height: 32px;\n",
              "      padding: 0 0 0 0;\n",
              "      width: 32px;\n",
              "    }\n",
              "\n",
              "    .colab-df-convert:hover {\n",
              "      background-color: #E2EBFA;\n",
              "      box-shadow: 0px 1px 2px rgba(60, 64, 67, 0.3), 0px 1px 3px 1px rgba(60, 64, 67, 0.15);\n",
              "      fill: #174EA6;\n",
              "    }\n",
              "\n",
              "    .colab-df-buttons div {\n",
              "      margin-bottom: 4px;\n",
              "    }\n",
              "\n",
              "    [theme=dark] .colab-df-convert {\n",
              "      background-color: #3B4455;\n",
              "      fill: #D2E3FC;\n",
              "    }\n",
              "\n",
              "    [theme=dark] .colab-df-convert:hover {\n",
              "      background-color: #434B5C;\n",
              "      box-shadow: 0px 1px 3px 1px rgba(0, 0, 0, 0.15);\n",
              "      filter: drop-shadow(0px 1px 2px rgba(0, 0, 0, 0.3));\n",
              "      fill: #FFFFFF;\n",
              "    }\n",
              "  </style>\n",
              "\n",
              "    <script>\n",
              "      const buttonEl =\n",
              "        document.querySelector('#df-911b90d4-a9cd-4609-9c68-f1169ea2cb20 button.colab-df-convert');\n",
              "      buttonEl.style.display =\n",
              "        google.colab.kernel.accessAllowed ? 'block' : 'none';\n",
              "\n",
              "      async function convertToInteractive(key) {\n",
              "        const element = document.querySelector('#df-911b90d4-a9cd-4609-9c68-f1169ea2cb20');\n",
              "        const dataTable =\n",
              "          await google.colab.kernel.invokeFunction('convertToInteractive',\n",
              "                                                    [key], {});\n",
              "        if (!dataTable) return;\n",
              "\n",
              "        const docLinkHtml = 'Like what you see? Visit the ' +\n",
              "          '<a target=\"_blank\" href=https://colab.research.google.com/notebooks/data_table.ipynb>data table notebook</a>'\n",
              "          + ' to learn more about interactive tables.';\n",
              "        element.innerHTML = '';\n",
              "        dataTable['output_type'] = 'display_data';\n",
              "        await google.colab.output.renderOutput(dataTable, element);\n",
              "        const docLink = document.createElement('div');\n",
              "        docLink.innerHTML = docLinkHtml;\n",
              "        element.appendChild(docLink);\n",
              "      }\n",
              "    </script>\n",
              "  </div>\n",
              "\n",
              "\n",
              "<div id=\"df-92cbe22c-71f9-419e-a132-90d48337066c\">\n",
              "  <button class=\"colab-df-quickchart\" onclick=\"quickchart('df-92cbe22c-71f9-419e-a132-90d48337066c')\"\n",
              "            title=\"Suggest charts\"\n",
              "            style=\"display:none;\">\n",
              "\n",
              "<svg xmlns=\"http://www.w3.org/2000/svg\" height=\"24px\"viewBox=\"0 0 24 24\"\n",
              "     width=\"24px\">\n",
              "    <g>\n",
              "        <path d=\"M19 3H5c-1.1 0-2 .9-2 2v14c0 1.1.9 2 2 2h14c1.1 0 2-.9 2-2V5c0-1.1-.9-2-2-2zM9 17H7v-7h2v7zm4 0h-2V7h2v10zm4 0h-2v-4h2v4z\"/>\n",
              "    </g>\n",
              "</svg>\n",
              "  </button>\n",
              "\n",
              "<style>\n",
              "  .colab-df-quickchart {\n",
              "      --bg-color: #E8F0FE;\n",
              "      --fill-color: #1967D2;\n",
              "      --hover-bg-color: #E2EBFA;\n",
              "      --hover-fill-color: #174EA6;\n",
              "      --disabled-fill-color: #AAA;\n",
              "      --disabled-bg-color: #DDD;\n",
              "  }\n",
              "\n",
              "  [theme=dark] .colab-df-quickchart {\n",
              "      --bg-color: #3B4455;\n",
              "      --fill-color: #D2E3FC;\n",
              "      --hover-bg-color: #434B5C;\n",
              "      --hover-fill-color: #FFFFFF;\n",
              "      --disabled-bg-color: #3B4455;\n",
              "      --disabled-fill-color: #666;\n",
              "  }\n",
              "\n",
              "  .colab-df-quickchart {\n",
              "    background-color: var(--bg-color);\n",
              "    border: none;\n",
              "    border-radius: 50%;\n",
              "    cursor: pointer;\n",
              "    display: none;\n",
              "    fill: var(--fill-color);\n",
              "    height: 32px;\n",
              "    padding: 0;\n",
              "    width: 32px;\n",
              "  }\n",
              "\n",
              "  .colab-df-quickchart:hover {\n",
              "    background-color: var(--hover-bg-color);\n",
              "    box-shadow: 0 1px 2px rgba(60, 64, 67, 0.3), 0 1px 3px 1px rgba(60, 64, 67, 0.15);\n",
              "    fill: var(--button-hover-fill-color);\n",
              "  }\n",
              "\n",
              "  .colab-df-quickchart-complete:disabled,\n",
              "  .colab-df-quickchart-complete:disabled:hover {\n",
              "    background-color: var(--disabled-bg-color);\n",
              "    fill: var(--disabled-fill-color);\n",
              "    box-shadow: none;\n",
              "  }\n",
              "\n",
              "  .colab-df-spinner {\n",
              "    border: 2px solid var(--fill-color);\n",
              "    border-color: transparent;\n",
              "    border-bottom-color: var(--fill-color);\n",
              "    animation:\n",
              "      spin 1s steps(1) infinite;\n",
              "  }\n",
              "\n",
              "  @keyframes spin {\n",
              "    0% {\n",
              "      border-color: transparent;\n",
              "      border-bottom-color: var(--fill-color);\n",
              "      border-left-color: var(--fill-color);\n",
              "    }\n",
              "    20% {\n",
              "      border-color: transparent;\n",
              "      border-left-color: var(--fill-color);\n",
              "      border-top-color: var(--fill-color);\n",
              "    }\n",
              "    30% {\n",
              "      border-color: transparent;\n",
              "      border-left-color: var(--fill-color);\n",
              "      border-top-color: var(--fill-color);\n",
              "      border-right-color: var(--fill-color);\n",
              "    }\n",
              "    40% {\n",
              "      border-color: transparent;\n",
              "      border-right-color: var(--fill-color);\n",
              "      border-top-color: var(--fill-color);\n",
              "    }\n",
              "    60% {\n",
              "      border-color: transparent;\n",
              "      border-right-color: var(--fill-color);\n",
              "    }\n",
              "    80% {\n",
              "      border-color: transparent;\n",
              "      border-right-color: var(--fill-color);\n",
              "      border-bottom-color: var(--fill-color);\n",
              "    }\n",
              "    90% {\n",
              "      border-color: transparent;\n",
              "      border-bottom-color: var(--fill-color);\n",
              "    }\n",
              "  }\n",
              "</style>\n",
              "\n",
              "  <script>\n",
              "    async function quickchart(key) {\n",
              "      const quickchartButtonEl =\n",
              "        document.querySelector('#' + key + ' button');\n",
              "      quickchartButtonEl.disabled = true;  // To prevent multiple clicks.\n",
              "      quickchartButtonEl.classList.add('colab-df-spinner');\n",
              "      try {\n",
              "        const charts = await google.colab.kernel.invokeFunction(\n",
              "            'suggestCharts', [key], {});\n",
              "      } catch (error) {\n",
              "        console.error('Error during call to suggestCharts:', error);\n",
              "      }\n",
              "      quickchartButtonEl.classList.remove('colab-df-spinner');\n",
              "      quickchartButtonEl.classList.add('colab-df-quickchart-complete');\n",
              "    }\n",
              "    (() => {\n",
              "      let quickchartButtonEl =\n",
              "        document.querySelector('#df-92cbe22c-71f9-419e-a132-90d48337066c button');\n",
              "      quickchartButtonEl.style.display =\n",
              "        google.colab.kernel.accessAllowed ? 'block' : 'none';\n",
              "    })();\n",
              "  </script>\n",
              "</div>\n",
              "\n",
              "    </div>\n",
              "  </div>\n"
            ],
            "application/vnd.google.colaboratory.intrinsic+json": {
              "type": "dataframe",
              "variable_name": "filtered_df"
            }
          },
          "metadata": {},
          "execution_count": 4
        }
      ],
      "source": [
        "# Tentukan batasan rating sebagai target rekomendasi (misal >= 4)\n",
        "filtered_df = merged_df[merged_df['review/score'] >= 4]\n",
        "# Menampilkan hasil DataFrame filtered_df teratas\n",
        "filtered_df.head()"
      ]
    },
    {
      "cell_type": "markdown",
      "metadata": {
        "id": "gfh3OKSbaU1R"
      },
      "source": [
        "# **User-item Matrix**"
      ]
    },
    {
      "cell_type": "code",
      "execution_count": 5,
      "metadata": {
        "colab": {
          "base_uri": "https://localhost:8080/"
        },
        "id": "40IuTR-vkf-a",
        "outputId": "2da3a368-85f7-4004-b0d5-cea1e441bf5c"
      },
      "outputs": [
        {
          "output_type": "stream",
          "name": "stdout",
          "text": [
            "Title                object\n",
            "description          object\n",
            "authors              object\n",
            "image                object\n",
            "publisher            object\n",
            "publishedDate        object\n",
            "general_category     object\n",
            "Id                   object\n",
            "User_id              object\n",
            "profileName          object\n",
            "review/score        float64\n",
            "dtype: object\n"
          ]
        }
      ],
      "source": [
        "print(filtered_df.dtypes)"
      ]
    },
    {
      "cell_type": "code",
      "execution_count": 6,
      "metadata": {
        "colab": {
          "base_uri": "https://localhost:8080/",
          "height": 0
        },
        "id": "xYAktWVRn9Ty",
        "outputId": "ba5c0bfb-7462-4bc3-e3ff-74642b155cbf"
      },
      "outputs": [
        {
          "output_type": "execute_result",
          "data": {
            "text/plain": [
              "Title\n",
              "\" Film technique, \" and, \" Film acting \"                                                                                                                           4.500000\n",
              "\" We'll Always Have Paris\": The Definitive Guide to Great Lines from the Movies                                                                                    5.000000\n",
              "\"... And Poetry is Born ...\" Russian Classical Poetry                                                                                                              4.000000\n",
              "\"A Truthful Impression of the Country\": British and American Travel Writing in China, 1880-1949                                                                    4.000000\n",
              "\"A careless word, a needless sinking\": A history of the staggering losses suffered by the U.S. Merchant Marine, both in ships and personnel during World War II    5.000000\n",
              "                                                                                                                                                                     ...   \n",
              "william the vehicle king                                                                                                                                           5.000000\n",
              "with an everlasting love                                                                                                                                           4.947368\n",
              "work and Motivation                                                                                                                                                5.000000\n",
              "xBase Programming for the True Beginner: An Introduction to the xBase Language in the Context of dBASE III+, IV, 5, FoxPro, and Clipper                            5.000000\n",
              "you can do anything with crepes                                                                                                                                    4.500000\n",
              "Name: review/score, Length: 160819, dtype: float64"
            ],
            "text/html": [
              "<div>\n",
              "<style scoped>\n",
              "    .dataframe tbody tr th:only-of-type {\n",
              "        vertical-align: middle;\n",
              "    }\n",
              "\n",
              "    .dataframe tbody tr th {\n",
              "        vertical-align: top;\n",
              "    }\n",
              "\n",
              "    .dataframe thead th {\n",
              "        text-align: right;\n",
              "    }\n",
              "</style>\n",
              "<table border=\"1\" class=\"dataframe\">\n",
              "  <thead>\n",
              "    <tr style=\"text-align: right;\">\n",
              "      <th></th>\n",
              "      <th>review/score</th>\n",
              "    </tr>\n",
              "    <tr>\n",
              "      <th>Title</th>\n",
              "      <th></th>\n",
              "    </tr>\n",
              "  </thead>\n",
              "  <tbody>\n",
              "    <tr>\n",
              "      <th>\" Film technique, \" and, \" Film acting \"</th>\n",
              "      <td>4.500000</td>\n",
              "    </tr>\n",
              "    <tr>\n",
              "      <th>\" We'll Always Have Paris\": The Definitive Guide to Great Lines from the Movies</th>\n",
              "      <td>5.000000</td>\n",
              "    </tr>\n",
              "    <tr>\n",
              "      <th>\"... And Poetry is Born ...\" Russian Classical Poetry</th>\n",
              "      <td>4.000000</td>\n",
              "    </tr>\n",
              "    <tr>\n",
              "      <th>\"A Truthful Impression of the Country\": British and American Travel Writing in China, 1880-1949</th>\n",
              "      <td>4.000000</td>\n",
              "    </tr>\n",
              "    <tr>\n",
              "      <th>\"A careless word, a needless sinking\": A history of the staggering losses suffered by the U.S. Merchant Marine, both in ships and personnel during World War II</th>\n",
              "      <td>5.000000</td>\n",
              "    </tr>\n",
              "    <tr>\n",
              "      <th>...</th>\n",
              "      <td>...</td>\n",
              "    </tr>\n",
              "    <tr>\n",
              "      <th>william the vehicle king</th>\n",
              "      <td>5.000000</td>\n",
              "    </tr>\n",
              "    <tr>\n",
              "      <th>with an everlasting love</th>\n",
              "      <td>4.947368</td>\n",
              "    </tr>\n",
              "    <tr>\n",
              "      <th>work and Motivation</th>\n",
              "      <td>5.000000</td>\n",
              "    </tr>\n",
              "    <tr>\n",
              "      <th>xBase Programming for the True Beginner: An Introduction to the xBase Language in the Context of dBASE III+, IV, 5, FoxPro, and Clipper</th>\n",
              "      <td>5.000000</td>\n",
              "    </tr>\n",
              "    <tr>\n",
              "      <th>you can do anything with crepes</th>\n",
              "      <td>4.500000</td>\n",
              "    </tr>\n",
              "  </tbody>\n",
              "</table>\n",
              "<p>160819 rows × 1 columns</p>\n",
              "</div><br><label><b>dtype:</b> float64</label>"
            ]
          },
          "metadata": {},
          "execution_count": 6
        }
      ],
      "source": [
        "# Menggabungkan rating untuk buku dengan judul yang sama menggunakan groupby dan agg\n",
        "filtered_df_grouped = filtered_df.groupby('Title')['review/score'].agg('mean')\n",
        "\n",
        "# Menampilkan DataFrame yang telah digabungkan\n",
        "filtered_df_grouped"
      ]
    },
    {
      "cell_type": "code",
      "execution_count": 7,
      "metadata": {
        "id": "mTWPbGddeWEZ"
      },
      "outputs": [],
      "source": [
        "# Mengelompokkan data berdasarkan judul dan menghitung rata-rata rating\n",
        "book_ratings = filtered_df.groupby('Title')['review/score'].mean().reset_index()\n",
        "\n",
        "# Membuat user-item matrix\n",
        "book_matrix = book_ratings.pivot_table(index='Title', values='review/score')\n",
        "\n",
        "# Mengisi nilai NaN dengan 0 (asumsi rating 0 jika tidak ada rating)\n",
        "book_matrix = book_matrix.fillna(0)"
      ]
    },
    {
      "cell_type": "markdown",
      "metadata": {
        "id": "WhFCcv5qtbTn"
      },
      "source": [
        "# **Neural Network for Content Based Filtering**"
      ]
    },
    {
      "cell_type": "markdown",
      "source": [
        "pustaka yang diperlukan diimpor:\n",
        "- `pandas` dan `numpy` untuk manipulasi data.\n",
        "- `nltk` untuk pemrosesan teks, khususnya untuk mengunduh stopwords.\n",
        "- `tensorflow.keras` untuk model pembelajaran mendalam (deep learning).\n",
        "- `sklearn` untuk pembagian data dan penghitungan metrik."
      ],
      "metadata": {
        "id": "QDuLRF7KO8wU"
      }
    },
    {
      "cell_type": "code",
      "execution_count": 8,
      "metadata": {
        "id": "MTbG9nl7tkzb"
      },
      "outputs": [],
      "source": [
        "import pandas as pd\n",
        "import numpy as np\n",
        "import nltk\n",
        "from nltk.corpus import stopwords\n",
        "from tensorflow.keras.preprocessing.text import Tokenizer\n",
        "from tensorflow.keras.preprocessing.sequence import pad_sequences\n",
        "from sklearn.model_selection import train_test_split"
      ]
    },
    {
      "cell_type": "code",
      "execution_count": 9,
      "metadata": {
        "colab": {
          "base_uri": "https://localhost:8080/"
        },
        "id": "6Rl6ne00y-DX",
        "outputId": "fea9d8e5-56e4-4985-eada-62c52edbfbb9"
      },
      "outputs": [
        {
          "output_type": "stream",
          "name": "stderr",
          "text": [
            "[nltk_data] Downloading package stopwords to /root/nltk_data...\n",
            "[nltk_data]   Unzipping corpora/stopwords.zip.\n"
          ]
        },
        {
          "output_type": "execute_result",
          "data": {
            "text/plain": [
              "True"
            ]
          },
          "metadata": {},
          "execution_count": 9
        }
      ],
      "source": [
        "# Unduh stopwords\n",
        "nltk.download('stopwords')"
      ]
    },
    {
      "cell_type": "markdown",
      "metadata": {
        "id": "zTcZSMMltkik"
      },
      "source": [
        "**Persiapan Dataset**"
      ]
    },
    {
      "cell_type": "code",
      "execution_count": 10,
      "metadata": {
        "id": "TLK0MgrNwcim"
      },
      "outputs": [],
      "source": [
        "# Dataset buku\n",
        "df = book_ratings"
      ]
    },
    {
      "cell_type": "code",
      "execution_count": 11,
      "metadata": {
        "id": "QPFIyIVUy12y"
      },
      "outputs": [],
      "source": [
        "# Ambil kolom yang diperlukan: 'Title' dan 'review/score'\n",
        "data = df[['Title', 'review/score']]"
      ]
    },
    {
      "cell_type": "markdown",
      "metadata": {
        "id": "HN5JstTG5cT_"
      },
      "source": [
        "**Preprocessing Teks**\n",
        "\n",
        "Fungsi preprocess_text digunakan untuk:\n",
        "\n",
        "- Mengubah teks menjadi lowercase.\n",
        "- Memecah teks menjadi token.\n",
        "- Menghapus stopwords yang tidak relevan untuk analisis."
      ]
    },
    {
      "cell_type": "code",
      "execution_count": 12,
      "metadata": {
        "id": "rC0GUhl2y5AS"
      },
      "outputs": [],
      "source": [
        "# Preprocessing teks\n",
        "stop_words = set(stopwords.words('english'))"
      ]
    },
    {
      "cell_type": "code",
      "execution_count": 13,
      "metadata": {
        "id": "F6N5W61VzCTM"
      },
      "outputs": [],
      "source": [
        "def preprocess_text(text):\n",
        "    # Tokenisasi, lowercase, dan hapus stopwords\n",
        "    tokens = text.lower().split()\n",
        "    tokens = [word for word in tokens if word not in stop_words]\n",
        "    return \" \".join(tokens)"
      ]
    },
    {
      "cell_type": "code",
      "execution_count": 14,
      "metadata": {
        "id": "k0_PsHvpzJrW"
      },
      "outputs": [],
      "source": [
        "# Terapkan preprocessing pada kolom Title\n",
        "data['cleaned_title'] = data['Title'].apply(preprocess_text)\n"
      ]
    },
    {
      "cell_type": "markdown",
      "source": [
        "**Tokenisasi dan Padding**\n",
        "\n",
        "Mengubah teks menjadi bentuk numerik. Tokenizer digunakan untuk mengubah teks menjadi urutan angka berdasarkan frekuensi kata. Padding diterapkan untuk memastikan setiap urutan memiliki panjang yang sama."
      ],
      "metadata": {
        "id": "POf1qNfIPZl6"
      }
    },
    {
      "cell_type": "code",
      "execution_count": 15,
      "metadata": {
        "id": "rLt2rEOKzLuM"
      },
      "outputs": [],
      "source": [
        "# Tokenisasi judul buku\n",
        "tokenizer = Tokenizer()\n",
        "tokenizer.fit_on_texts(data['cleaned_title'])\n",
        "title_sequences = tokenizer.texts_to_sequences(data['cleaned_title'])\n"
      ]
    },
    {
      "cell_type": "code",
      "execution_count": 16,
      "metadata": {
        "id": "eNnULsJSzTDu"
      },
      "outputs": [],
      "source": [
        "# Padding agar semua sequence memiliki panjang yang sama\n",
        "max_sequence_length = max([len(seq) for seq in title_sequences])\n",
        "X = pad_sequences(title_sequences, maxlen=max_sequence_length)"
      ]
    },
    {
      "cell_type": "markdown",
      "source": [
        "**Pembagian Data untuk Pelatihan dan Pengujian**\n",
        "\n",
        " Dibagi menjadi set pelatihan dan pengujian menggunakan train_test_split."
      ],
      "metadata": {
        "id": "3OhJKvrhPkfS"
      }
    },
    {
      "cell_type": "code",
      "execution_count": 17,
      "metadata": {
        "id": "ZM_O0XOxzUcI"
      },
      "outputs": [],
      "source": [
        "# Label rating\n",
        "y = data['review/score'].values\n"
      ]
    },
    {
      "cell_type": "code",
      "execution_count": 18,
      "metadata": {
        "id": "AJUTfZgwzV7i"
      },
      "outputs": [],
      "source": [
        "# Split data untuk pelatihan dan pengujian\n",
        "X_train, X_test, y_train, y_test = train_test_split(X, y, test_size=0.2, random_state=42)"
      ]
    },
    {
      "cell_type": "code",
      "execution_count": 19,
      "metadata": {
        "colab": {
          "base_uri": "https://localhost:8080/"
        },
        "id": "PqIBa0_qzXiP",
        "outputId": "18d0688d-3e4f-4bab-de17-9fabd468c496"
      },
      "outputs": [
        {
          "output_type": "stream",
          "name": "stdout",
          "text": [
            "Data siap untuk model NLP!\n"
          ]
        }
      ],
      "source": [
        "print(\"Data siap untuk model NLP!\")"
      ]
    },
    {
      "cell_type": "markdown",
      "source": [
        "# **Pembuatan Model Neural Network**\n",
        "Model neural network dibangun menggunakan Keras. Model ini terdiri dari:\n",
        "\n",
        "- Input Layer: Menyesuaikan panjang urutan setelah padding.\n",
        "- Embedding Layer: Untuk mewakili kata-kata dalam dimensi yang lebih rendah.\n",
        "- Flatten Layer: Menyamaratakan hasil embedding untuk diproses lebih lanjut.\n",
        "- Dense Layer: Untuk membuat prediksi skor rating.\n",
        "- Output Layer: Dengan fungsi aktivasi linear untuk menghasilkan skor numerik."
      ],
      "metadata": {
        "id": "kLotjaI_PzBA"
      }
    },
    {
      "cell_type": "code",
      "execution_count": 20,
      "metadata": {
        "id": "t3Blo1zOzgr7"
      },
      "outputs": [],
      "source": [
        "import tensorflow as tf\n",
        "from tensorflow.keras.models import Sequential\n",
        "from tensorflow.keras.layers import Embedding, Dense, Flatten, Input\n",
        "from tensorflow.keras.optimizers import Adam"
      ]
    },
    {
      "cell_type": "code",
      "execution_count": 21,
      "metadata": {
        "id": "Zi4TcokJzjhi"
      },
      "outputs": [],
      "source": [
        "# Model dengan layer embedding untuk memproses teks\n",
        "model = Sequential([\n",
        "    Input(shape=(max_sequence_length,)),  # Input sesuai panjang sequence setelah padding\n",
        "    Embedding(input_dim=len(tokenizer.word_index) + 1, output_dim=50, input_length=max_sequence_length),\n",
        "    Flatten(),  # Menyamaratakan output embedding\n",
        "    Dense(128, activation='relu'),\n",
        "    Dense(1, activation='linear')  # Output rating sebagai angka kontinu\n",
        "])\n"
      ]
    },
    {
      "cell_type": "markdown",
      "source": [
        "Kompilasi dengan optimizer Adam dan loss function mean_squared_error untuk masalah regresi."
      ],
      "metadata": {
        "id": "-nhNHmnQQO7O"
      }
    },
    {
      "cell_type": "code",
      "execution_count": 22,
      "metadata": {
        "id": "u-MUpnE5zoB8"
      },
      "outputs": [],
      "source": [
        "# Menyusun model\n",
        "model.compile(optimizer=Adam(), loss='mean_squared_error', metrics=['mae'])\n"
      ]
    },
    {
      "cell_type": "markdown",
      "source": [
        "EarlyStopping diterapkan untuk menghentikan pelatihan jika model tidak mengalami peningkatan pada data validasi setelah beberapa epoch. Model dilatih menggunakan data pelatihan dengan menerapkan early_stopping untuk menghindari overfitting."
      ],
      "metadata": {
        "id": "ABC6rwLxQEFN"
      }
    },
    {
      "cell_type": "code",
      "execution_count": 23,
      "metadata": {
        "colab": {
          "base_uri": "https://localhost:8080/"
        },
        "id": "PJlfkQ2e5N_1",
        "outputId": "f25448d6-4ba8-4289-bee4-a909c9f5fed9"
      },
      "outputs": [
        {
          "output_type": "stream",
          "name": "stdout",
          "text": [
            "Epoch 1/1000\n",
            "4021/4021 [==============================] - 243s 60ms/step - loss: 0.1498 - mae: 0.2861 - val_loss: 0.1163 - val_mae: 0.2860\n",
            "Epoch 2/1000\n",
            "4021/4021 [==============================] - 240s 60ms/step - loss: 0.1002 - mae: 0.2490 - val_loss: 0.1219 - val_mae: 0.2881\n",
            "Epoch 3/1000\n",
            "4021/4021 [==============================] - 240s 60ms/step - loss: 0.0755 - mae: 0.2098 - val_loss: 0.1308 - val_mae: 0.2802\n",
            "Epoch 4/1000\n",
            "4021/4021 [==============================] - 240s 60ms/step - loss: 0.0604 - mae: 0.1823 - val_loss: 0.1394 - val_mae: 0.2998\n"
          ]
        }
      ],
      "source": [
        "from tensorflow.keras.callbacks import EarlyStopping\n",
        "# Early stopping untuk berhenti jika validasi loss tidak membaik setelah beberapa epoch\n",
        "early_stopping = EarlyStopping(monitor='val_loss',\n",
        "                               patience=3,  # Berapa epoch tanpa perbaikan yang akan ditunggu\n",
        "                               restore_best_weights=True)  # Mengembalikan bobot terbaik setelah berhenti\n",
        "\n",
        "# Melatih model dengan early stopping\n",
        "history = model.fit(X_train, y_train,\n",
        "                    epochs=1000,\n",
        "                    batch_size=32,\n",
        "                    validation_data=(X_test, y_test),\n",
        "                    callbacks=[early_stopping])\n"
      ]
    },
    {
      "cell_type": "markdown",
      "source": [
        "model dievaluasi menggunakan data uji untuk menghitung loss dan Mean Absolute Error (MAE)."
      ],
      "metadata": {
        "id": "Ezz08SdXQVZI"
      }
    },
    {
      "cell_type": "code",
      "execution_count": 24,
      "metadata": {
        "id": "OORoLXM3z8Fx",
        "colab": {
          "base_uri": "https://localhost:8080/"
        },
        "outputId": "98f51a67-cbb4-4a56-b20e-9fc2ca53695e"
      },
      "outputs": [
        {
          "output_type": "stream",
          "name": "stdout",
          "text": [
            "1006/1006 [==============================] - 2s 2ms/step - loss: 0.1163 - mae: 0.2860\n",
            "Test Loss: 0.11630860716104507, Test MAE: 0.2860424816608429\n"
          ]
        }
      ],
      "source": [
        "# Evaluasi model di data uji\n",
        "loss, mae = model.evaluate(X_test, y_test)\n",
        "print(f\"Test Loss: {loss}, Test MAE: {mae}\")\n",
        "\n"
      ]
    },
    {
      "cell_type": "code",
      "source": [
        "import matplotlib.pyplot as plt\n",
        "\n",
        "# Plot Akurasi dan Loss untuk Data Latih dan Validasi\n",
        "plt.figure(figsize=(12, 6))\n",
        "\n",
        "# Plot Akurasi\n",
        "plt.subplot(1, 2, 1)\n",
        "plt.plot(history.history['mae'], label='Training MAE')\n",
        "plt.plot(history.history['val_mae'], label='Validation MAE')\n",
        "plt.title('Akurasi Model (MAE) Selama Pelatihan')\n",
        "plt.xlabel('Epoch')\n",
        "plt.ylabel('Mean Absolute Error')\n",
        "plt.legend()\n",
        "\n",
        "# Plot Loss\n",
        "plt.subplot(1, 2, 2)\n",
        "plt.plot(history.history['loss'], label='Training Loss')\n",
        "plt.plot(history.history['val_loss'], label='Validation Loss')\n",
        "plt.title('Loss Model Selama Pelatihan')\n",
        "plt.xlabel('Epoch')\n",
        "plt.ylabel('Loss')\n",
        "plt.legend()"
      ],
      "metadata": {
        "id": "4VwnJLkZR-le",
        "colab": {
          "base_uri": "https://localhost:8080/",
          "height": 581
        },
        "outputId": "283a7928-f57b-4d89-9478-e42efe2d2259"
      },
      "execution_count": 25,
      "outputs": [
        {
          "output_type": "execute_result",
          "data": {
            "text/plain": [
              "<matplotlib.legend.Legend at 0x7d56c176a350>"
            ]
          },
          "metadata": {},
          "execution_count": 25
        },
        {
          "output_type": "display_data",
          "data": {
            "text/plain": [
              "<Figure size 1200x600 with 2 Axes>"
            ],
            "image/png": "[encoded data removed]"
          },
          "metadata": {}
        }
      ]
    },
    {
      "cell_type": "markdown",
      "source": [
        "**Penurunan Training MAE:**\n",
        "\n",
        "Training MAE terus menurun secara konsisten seiring dengan bertambahnya epoch.\n",
        "Ini menunjukkan bahwa model sedang belajar dengan baik pada data pelatihan dan semakin mampu memprediksi dengan kesalahan yang lebih kecil.\n",
        "Fluktuasi Validation MAE:\n",
        "\n",
        "Validation MAE mengalami fluktuasi. Pada epoch pertama, nilai MAE cukup rendah, namun sedikit meningkat pada epoch berikutnya.\n",
        "Peningkatan Validation MAE di epoch-epoch selanjutnya (walaupun tidak terlalu signifikan) bisa menjadi indikasi bahwa model mulai overfitting pada data pelatihan. Model belajar terlalu spesifik pada data pelatihan dan kehilangan kemampuan generalisasi pada data validasi.\n",
        "\n",
        "**Penurunan Training Loss:**\n",
        "\n",
        "Training loss terus menurun secara konsisten dengan bertambahnya epoch.\n",
        "Ini menunjukkan bahwa model berhasil mempelajari pola dari data pelatihan dan mampu memprediksi nilai target dengan kesalahan yang semakin kecil.\n",
        "Fluktuasi Validation Loss:\n",
        "\n",
        "Validation loss sedikit menurun pada epoch pertama tetapi mulai meningkat pada epoch berikutnya.\n",
        "Peningkatan Validation Loss, seperti halnya pada Validation MAE, dapat menjadi tanda awal overfitting, karena model belajar terlalu baik pada data pelatihan tetapi tidak mampu generalisasi dengan baik pada data validasi."
      ],
      "metadata": {
        "id": "4G2TsqFpXNZX"
      }
    },
    {
      "cell_type": "code",
      "source": [
        "# Menampilkan plot\n",
        "plt.tight_layout()\n",
        "plt.show()"
      ],
      "metadata": {
        "id": "-sdDpFiZSDTf",
        "colab": {
          "base_uri": "https://localhost:8080/",
          "height": 34
        },
        "outputId": "0c93e6e0-8452-40c2-eb13-e8b5f29cafbe"
      },
      "execution_count": 26,
      "outputs": [
        {
          "output_type": "display_data",
          "data": {
            "text/plain": [
              "<Figure size 640x480 with 0 Axes>"
            ]
          },
          "metadata": {}
        }
      ]
    },
    {
      "cell_type": "code",
      "execution_count": 33,
      "metadata": {
        "id": "jVH4zIF56fiH",
        "colab": {
          "base_uri": "https://localhost:8080/"
        },
        "outputId": "9cfaf47d-7cac-4091-f9ff-42c876a0d550"
      },
      "outputs": [
        {
          "output_type": "stream",
          "name": "stdout",
          "text": [
            "5026/5026 [==============================] - 7s 1ms/step\n"
          ]
        }
      ],
      "source": [
        "embedding_model = tf.keras.Model(inputs=model.input, outputs=model.layers[0].output)  # Output layer embedding\n",
        "book_embeddings = embedding_model.predict(X)  # X adalah data input untuk model\n"
      ]
    },
    {
      "cell_type": "markdown",
      "source": [
        "Setelah model dilatih, embeddings buku diratakan dan dihitung kemiripannya menggunakan cosine similarity. Matriks kemiripan digunakan untuk menemukan buku yang paling mirip dengan buku tertentu."
      ],
      "metadata": {
        "id": "dvoRKApuQZd7"
      }
    },
    {
      "cell_type": "code",
      "execution_count": 34,
      "metadata": {
        "id": "6mdAaBioCPUp",
        "colab": {
          "base_uri": "https://localhost:8080/"
        },
        "outputId": "86de4c76-0045-4b78-984c-bd16589ae90b"
      },
      "outputs": [
        {
          "output_type": "stream",
          "name": "stdout",
          "text": [
            "(160819, 2150)\n",
            "Cosine Similarity Matrix:\n",
            "[[0.9999996  0.56145453 0.65189767 ... 0.7096349  0.45571673 0.7200706 ]\n",
            " [0.56145453 0.9999999  0.5688794  ... 0.6586975  0.42933056 0.64354306]\n",
            " [0.65189767 0.5688794  0.99999976 ... 0.73246324 0.5129166  0.6692809 ]\n",
            " ...\n",
            " [0.7096349  0.6586975  0.73246324 ... 0.9999994  0.50769854 0.80339   ]\n",
            " [0.45571673 0.42933056 0.5129166  ... 0.50769854 0.9999994  0.4682162 ]\n",
            " [0.7200706  0.64354306 0.6692809  ... 0.80339    0.4682162  0.99999905]]\n"
          ]
        }
      ],
      "source": [
        "from sklearn.metrics.pairwise import cosine_similarity\n",
        "\n",
        "# Meratakan seluruh embeddings menjadi 2D\n",
        "book_embeddings_flattened = book_embeddings.reshape(book_embeddings.shape[0], -1)\n",
        "\n",
        "# Verifikasi bentuk setelah diratakan\n",
        "print(book_embeddings_flattened.shape)\n",
        "\n",
        "# Menghitung kemiripan cosine antar buku\n",
        "cosine_sim = cosine_similarity(book_embeddings_flattened)\n",
        "\n",
        "# Menampilkan kemiripan antar buku\n",
        "print(\"Cosine Similarity Matrix:\")\n",
        "print(cosine_sim)"
      ]
    },
    {
      "cell_type": "code",
      "source": [
        "# Menampilkan summary model\n",
        "model.summary()"
      ],
      "metadata": {
        "id": "dUV125K3YXDV",
        "colab": {
          "base_uri": "https://localhost:8080/"
        },
        "outputId": "193fa0b7-fe78-4fb9-8c95-07fc66ddcdd2"
      },
      "execution_count": 32,
      "outputs": [
        {
          "output_type": "stream",
          "name": "stdout",
          "text": [
            "Model: \"sequential\"\n",
            "_________________________________________________________________\n",
            " Layer (type)                Output Shape              Param #   \n",
            "=================================================================\n",
            " embedding (Embedding)       (None, 43, 50)            3257200   \n",
            "                                                                 \n",
            " flatten (Flatten)           (None, 2150)              0         \n",
            "                                                                 \n",
            " dense (Dense)               (None, 128)               275328    \n",
            "                                                                 \n",
            " dense_1 (Dense)             (None, 1)                 129       \n",
            "                                                                 \n",
            "=================================================================\n",
            "Total params: 3532657 (13.48 MB)\n",
            "Trainable params: 3532657 (13.48 MB)\n",
            "Non-trainable params: 0 (0.00 Byte)\n",
            "_________________________________________________________________\n"
          ]
        }
      ]
    },
    {
      "cell_type": "markdown",
      "source": [
        "# **Fungsi Rekomendasi Buku**\n",
        "Fungsi get_top_recommendations digunakan untuk mengambil rekomendasi buku berdasarkan judul buku yang diberikan. Buku yang paling mirip dengan buku input akan dikembalikan sebagai rekomendasi, disertai dengan skor kemiripan dan rating review.\n",
        "**Menampilkan 5 Buku Teratas Berdasarkan Kemiripan dan Rating Tertinggi**"
      ],
      "metadata": {
        "id": "0jPkXeWMQcPr"
      }
    },
    {
      "cell_type": "code",
      "execution_count": 35,
      "metadata": {
        "id": "Z3R2yGZE0CoH"
      },
      "outputs": [],
      "source": [
        "import numpy as np\n",
        "\n",
        "def get_top_recommendations(book_title, df, cosine_sim, top_n=5):\n",
        "    # Cek apakah judul buku ada di dataset\n",
        "    if book_title not in df['Title'].values:\n",
        "        print(f\"Buku dengan judul '{book_title}' tidak ditemukan!\")\n",
        "        return []\n",
        "\n",
        "    # Menemukan indeks buku berdasarkan judul\n",
        "    book_idx = df[df['Title'] == book_title].index[0]\n",
        "\n",
        "    # Verifikasi ukuran cosine_sim\n",
        "    print(f\"Jumlah buku di dataset: {len(df)}\")\n",
        "    print(f\"Jumlah baris di cosine_sim: {cosine_sim.shape[0]}\")\n",
        "\n",
        "    # Jika jumlah buku di df tidak sesuai dengan jumlah dalam cosine_sim\n",
        "    if len(df) != cosine_sim.shape[0]:\n",
        "        print(\"Ukuran cosine_sim tidak sesuai dengan dataset!\")\n",
        "        return []\n",
        "\n",
        "    # Mendapatkan nilai kemiripan untuk buku tersebut\n",
        "    similarity_scores = cosine_sim[book_idx]\n",
        "\n",
        "    # Mengurutkan kemiripan dan mengambil indeks dan skor tertinggi\n",
        "    similar_books_idx = similarity_scores.argsort()[-top_n-1:-1][::-1]  # Mengambil top N rekomendasi (dengan exclude diri sendiri)\n",
        "\n",
        "    # Menyaring indeks agar tidak termasuk buku itu sendiri\n",
        "    similar_books_idx = [idx for idx in similar_books_idx if idx != book_idx]\n",
        "\n",
        "    # Mengambil buku-buku yang relevan\n",
        "    recommended_books = df.iloc[similar_books_idx]\n",
        "\n",
        "    # Mengurutkan rekomendasi berdasarkan kolom 'ReviewScore' (skor tertinggi)\n",
        "    recommended_books = recommended_books.sort_values(by='review/score', ascending=False)\n",
        "\n",
        "    # Mengembalikan rekomendasi dalam format yang mudah dibaca\n",
        "    recommendations = []\n",
        "    for idx, row in recommended_books.iterrows():\n",
        "        recommendations.append({\n",
        "            'title': row['Title'],\n",
        "            'review_score': row['review/score'],\n",
        "            'Similarity Score': similarity_scores[idx]\n",
        "        })\n",
        "\n",
        "    return recommendations\n",
        "\n"
      ]
    },
    {
      "cell_type": "markdown",
      "source": [
        "Rekomendasi akan menampilkan 5 rekomendasi buku teratas berdasarkan nilai cosine, dan urutan berdasarkan rating tertinggi"
      ],
      "metadata": {
        "id": "wZdcMi-wQsE7"
      }
    },
    {
      "cell_type": "code",
      "source": [
        "# Contoh: Menampilkan 5 rekomendasi berdasarkan kemiripan untuk buku dengan judul tertentu\n",
        "book_title = 'Its Only Art If Its Well Hung!'  # Ganti dengan judul buku yang ada di dataset Anda\n",
        "recommendations = get_top_recommendations(book_title, df, cosine_sim, top_n=5)\n",
        "\n",
        "# Menampilkan rekomendasi dalam bentuk list ke bawah\n",
        "print(f\"Rekomendasi untuk '{book_title}':\")\n",
        "for idx, rec in enumerate(recommendations, 1):\n",
        "    print(f\"{idx}. {rec}\")"
      ],
      "metadata": {
        "colab": {
          "base_uri": "https://localhost:8080/"
        },
        "id": "iVGFnWWqUPFf",
        "outputId": "7e1c63f1-1ddd-4b85-a14f-2014a7a63dc3"
      },
      "execution_count": 36,
      "outputs": [
        {
          "output_type": "stream",
          "name": "stdout",
          "text": [
            "Jumlah buku di dataset: 160819\n",
            "Jumlah baris di cosine_sim: 160819\n",
            "Rekomendasi untuk 'Its Only Art If Its Well Hung!':\n",
            "1. {'title': 'The Well, A Novel', 'review_score': 5.0, 'Similarity Score': 0.91188765}\n",
            "2. {'title': 'Not well advised', 'review_score': 5.0, 'Similarity Score': 0.9019383}\n",
            "3. {'title': 'Live Well in Honduras', 'review_score': 5.0, 'Similarity Score': 0.910165}\n",
            "4. {'title': 'The Well of the Worlds', 'review_score': 4.0, 'Similarity Score': 0.91565895}\n",
            "5. {'title': 'The Well of Time', 'review_score': 4.0, 'Similarity Score': 0.90533566}\n"
          ]
        }
      ]
    },
    {
      "cell_type": "markdown",
      "metadata": {
        "id": "JEonorAC0kKJ"
      },
      "source": [
        "# Mengonversi Model TensorFlow ke TensorFlow Lite"
      ]
    },
    {
      "cell_type": "markdown",
      "metadata": {
        "id": "9KqtxLPe0lWe"
      },
      "source": [
        "**Simpan Model TensorFlow**"
      ]
    },
    {
      "cell_type": "code",
      "execution_count": 37,
      "metadata": {
        "id": "0x_wHH7g0phK",
        "colab": {
          "base_uri": "https://localhost:8080/"
        },
        "outputId": "8cd8eadd-c479-4598-cc1b-6b2b4e52d129"
      },
      "outputs": [
        {
          "output_type": "stream",
          "name": "stderr",
          "text": [
            "/usr/local/lib/python3.10/dist-packages/keras/src/engine/training.py:3103: UserWarning: You are saving your model as an HDF5 file via `model.save()`. This file format is considered legacy. We recommend using instead the native Keras format, e.g. `model.save('my_model.keras')`.\n",
            "  saving_api.save_model(\n"
          ]
        }
      ],
      "source": [
        "# Menyimpan model TensorFlow\n",
        "model.save('book_recommendation_model.h5')"
      ]
    },
    {
      "cell_type": "markdown",
      "metadata": {
        "id": "wnfLTL9A0sze"
      },
      "source": [
        "**Mengonversi Model ke Format TensorFlow Lite**"
      ]
    },
    {
      "cell_type": "code",
      "execution_count": null,
      "metadata": {
        "id": "kcekKy9V0t-D"
      },
      "outputs": [],
      "source": [
        "import tensorflow as tf\n",
        "\n",
        "# Mengonversi model yang disimpan (.h5) ke format .tflite\n",
        "model = tf.keras.models.load_model('book_recommendation_model.h5')\n",
        "\n",
        "# Membuat converter TFLite\n",
        "converter = tf.lite.TFLiteConverter.from_keras_model(model)\n",
        "\n",
        "# Mengonversi model ke format TFLite\n",
        "tflite_model = converter.convert()\n",
        "\n",
        "# Menyimpan model TFLite\n",
        "with open('book_recommendation_model.tflite', 'wb') as f:\n",
        "    f.write(tflite_model)\n"
      ]
    },
    {
      "cell_type": "markdown",
      "metadata": {
        "id": "4gc3Wf9jTvGs"
      },
      "source": [
        "#Neural Network for Colaborative Filtering"
      ]
    },
    {
      "cell_type": "code",
      "execution_count": null,
      "metadata": {
        "id": "gF3FrcKYV8bw"
      },
      "outputs": [],
      "source": [
        "import numpy as np\n",
        "import tensorflow as tf\n",
        "from tensorflow import keras\n",
        "from tensorflow.keras import layers, regularizers"
      ]
    },
    {
      "cell_type": "code",
      "execution_count": null,
      "metadata": {
        "id": "Yh8qvQIWcCDq"
      },
      "outputs": [],
      "source": [
        "print(\"Jumlah baris sebelum menghapus duplikasi:\", len(ratings_df_complete))\n",
        "\n",
        "# Hapus duplikasi berdasarkan semua kolom\n",
        "rating = ratings_df_complete.drop_duplicates()\n",
        "\n",
        "# Periksa jumlah baris setelah menghapus duplikasi\n",
        "print(\"Jumlah baris setelah menghapus duplikasi:\", len(rating))"
      ]
    },
    {
      "cell_type": "code",
      "execution_count": null,
      "metadata": {
        "id": "WUmxn8bJdip0"
      },
      "outputs": [],
      "source": [
        "# mennggunakan 20k darii dataframe rating_df_complete untuk melatih model nya\n",
        "rating = ratings_df_complete[:20000]\n",
        "rating.shape"
      ]
    },
    {
      "cell_type": "code",
      "execution_count": null,
      "metadata": {
        "id": "yUkH4ajIVW9e"
      },
      "outputs": [],
      "source": [
        "rating.head()"
      ]
    },
    {
      "cell_type": "code",
      "execution_count": null,
      "metadata": {
        "id": "QbZenBuWVbdT"
      },
      "outputs": [],
      "source": [
        "#Mendapatkan daftar ID unik pengguna dari User_id\n",
        "user_ids = rating['User_id'].unique().tolist()\n",
        "user2user_encoded = {x: i for i, x in enumerate(user_ids)}\n",
        "userencoded2user = {i: x for i, x in enumerate(user_ids)}"
      ]
    },
    {
      "cell_type": "code",
      "execution_count": null,
      "metadata": {
        "id": "27TQ28LZVthw"
      },
      "outputs": [],
      "source": [
        "#Mendapatkan daftar ID unik pengguna dari Id\n",
        "book_ids = rating['Id'].unique().tolist()\n",
        "book2book_encoded = {x: i for i, x in enumerate(book_ids)}\n",
        "book_encoded2book = {i: x for i, x in enumerate(book_ids)}"
      ]
    },
    {
      "cell_type": "code",
      "execution_count": null,
      "metadata": {
        "id": "JDwNAve_V3sQ"
      },
      "outputs": [],
      "source": [
        "# Menambahkan kolom baru user dan book yang berisi encoding numerik dari User_id dan Id\n",
        "rating['user'] = rating['User_id'].map(user2user_encoded)\n",
        "rating['book'] = rating['Id'].map(book2book_encoded)"
      ]
    },
    {
      "cell_type": "code",
      "execution_count": null,
      "metadata": {
        "id": "o8BmpmA2f_EU"
      },
      "outputs": [],
      "source": [
        "# mendapatkan lenght dari user dan books yang sudah di encoded\n",
        "num_users = len(user2user_encoded)\n",
        "num_books = len(book2book_encoded)\n",
        "# mengubah type data reviw/score ke float32\n",
        "rating[\"review/score\"] = rating[\"review/score\"].values.astype(np.float32)\n",
        "# mendapatkan nilai min dan maks di review/score\n",
        "min_rating = min(rating[\"review/score\"])\n",
        "max_rating = max(rating[\"review/score\"])\n",
        "print(\n",
        "    \"number of users: {}, books: {}, min rating: {}, max rating: {}\".format(\n",
        "        num_users, num_books, min_rating, max_rating\n",
        "    )\n",
        ")\n"
      ]
    },
    {
      "cell_type": "code",
      "execution_count": null,
      "metadata": {
        "id": "1KmMLfopgLbH"
      },
      "outputs": [],
      "source": [
        "# mengacak urutan data dalam df rating\n",
        "rating= rating.sample(frac=1, random_state=42)\n",
        "x = rating[[\"user\", \"book\"]].values\n",
        "# Menormalkan skor review menjadi nilai antara 0 dan 1\n",
        "y = rating[\"review/score\"].apply(lambda x: (x - min_rating) / (max_rating - min_rating)).values\n",
        "# Membagi data menjadi set pelatihan (90%) dan set validasi (10%)\n",
        "train_indices = int(0.9 * rating.shape[0])\n",
        "x_train, x_val, y_train, y_val = (\n",
        "    x[:train_indices],\n",
        "    x[train_indices:],\n",
        "    y[:train_indices],\n",
        "    y[train_indices:],\n",
        ")\n",
        "print(x, y)"
      ]
    },
    {
      "cell_type": "code",
      "execution_count": null,
      "metadata": {
        "id": "_wmBgHlXgOdx"
      },
      "outputs": [],
      "source": [
        "class RecommenderNet(tf.keras.Model):\n",
        "  def __init__(self, num_users, num_books, embedding_size, **kwargs):\n",
        "    #inisialisasi class\n",
        "    super(RecommenderNet, self).__init__(**kwargs)\n",
        "    self.num_users = num_users\n",
        "    self.embedding_size = embedding_size\n",
        "    self.num_books = num_books\n",
        "    # buat layer embbeding untuk user\n",
        "    self.embedding_size = embedding_size\n",
        "    self.user_embedding = layers.Embedding(\n",
        "        num_users,\n",
        "        embedding_size,\n",
        "        embeddings_initializer = 'he_normal',\n",
        "        embeddings_regularizer = keras.regularizers.l2(1e-8)\n",
        "    )\n",
        "    # buat layer bias untuk user\n",
        "    self.user_bias = layers.Embedding(num_users, 1)\n",
        "    # buat layer embedding untuk book\n",
        "    self.book_embedding = layers.Embedding(\n",
        "        num_books,\n",
        "        embedding_size,\n",
        "        embeddings_initializer = 'he_normal',\n",
        "        embeddings_regularizer = keras.regularizers.l2(1e-8)\n",
        "    )\n",
        "    # buat layer bias untuk book\n",
        "    self.book_bias = layers.Embedding(num_books, 1)\n",
        "\n",
        "  def call(self, inputs):\n",
        "    user_vector = self.user_embedding(inputs[:,0])\n",
        "    user_bias = self.user_bias(inputs[:, 0])\n",
        "    book_vector = self.book_embedding(inputs[:, 1])\n",
        "    book_bias = self.book_bias(inputs[:, 1])\n",
        "\n",
        "    # menghitung hasil perkalian titik antara user dan book\n",
        "    dot_user_book = tf.tensordot(user_vector, book_vector, 2)\n",
        "    # menambahkan bias ke hasil dot user dan book\n",
        "    x = dot_user_book + user_bias + book_bias\n",
        "    # menggunakan fungsi sigmoid karena output nya probabilitas\n",
        "    return tf.nn.sigmoid(x)"
      ]
    },
    {
      "cell_type": "code",
      "execution_count": null,
      "metadata": {
        "id": "5TT4WhDOg5-J"
      },
      "outputs": [],
      "source": [
        "\n",
        "# implementing callbacks\n",
        "from tensorflow.keras.callbacks import ReduceLROnPlateau\n",
        "\n",
        "lr_reduction = ReduceLROnPlateau(\n",
        "    monitor = 'root_mean_squared_error',\n",
        "    patience = 3,\n",
        "    verbose = 1,\n",
        "    factor = 0.1,\n",
        "    min_lr = 0.000001\n",
        ")\n",
        "\n",
        "class myCallback(tf.keras.callbacks.Callback):\n",
        "  def on_epoch_end(self, epoch, logs={}):\n",
        "    rmse = logs.get('root_mean_squared_error')\n",
        "    val_rmse = logs.get('val_root_mean_squared_error')\n",
        "\n",
        "    if(rmse < 0.2):\n",
        "      print(\"\\nMencapai akurasi yang diinginkan sehingga membatalkan pelatihan!\")\n",
        "      self.model.stop_training = True\n",
        "\n",
        "earlyStop = myCallback()"
      ]
    },
    {
      "cell_type": "code",
      "execution_count": null,
      "metadata": {
        "id": "pLrV-vJkh9Dw"
      },
      "outputs": [],
      "source": [
        "\n",
        "# model initialization\n",
        "model = RecommenderNet(num_users, num_books, 50)\n",
        "\n",
        "# model compiling\n",
        "model.compile(\n",
        "    loss = 'binary_crossentropy',\n",
        "    optimizer = tf.optimizers.Adam(learning_rate = 0.001),\n",
        "    metrics = [tf.keras.metrics.RootMeanSquaredError()]\n",
        ")"
      ]
    },
    {
      "cell_type": "code",
      "execution_count": null,
      "metadata": {
        "id": "YHGWg8foXHy0"
      },
      "outputs": [],
      "source": [
        "\n",
        "# model training\n",
        "history = model.fit(\n",
        "    x = x_train,\n",
        "    y = y_train,\n",
        "    batch_size = 8,\n",
        "    epochs = 40,\n",
        "    verbose = 1,\n",
        "    validation_data = (x_val, y_val),\n",
        "    callbacks = [lr_reduction, earlyStop]\n",
        ")"
      ]
    },
    {
      "cell_type": "code",
      "execution_count": null,
      "metadata": {
        "id": "Ed8U8gv_iygu"
      },
      "outputs": [],
      "source": [
        "plt.plot(history.history['root_mean_squared_error'])\n",
        "plt.plot(history.history['val_root_mean_squared_error'])\n",
        "plt.title('model error')\n",
        "plt.ylabel('root_mean_squared_error')\n",
        "plt.xlabel('epoch')\n",
        "plt.legend(['train', 'test'], loc='upper left')\n",
        "plt.show()\n"
      ]
    },
    {
      "cell_type": "code",
      "execution_count": null,
      "metadata": {
        "id": "aN1zIPvjip_h"
      },
      "outputs": [],
      "source": [
        "\n",
        "plt.plot(history.history['loss'])\n",
        "plt.plot(history.history['val_loss'])\n",
        "plt.title('model loss')\n",
        "plt.ylabel('loss')\n",
        "plt.xlabel('epoch')\n",
        "plt.legend(['train', 'test'], loc='upper left')\n",
        "plt.show()"
      ]
    },
    {
      "cell_type": "code",
      "execution_count": null,
      "metadata": {
        "id": "Lybr7BrXosE_"
      },
      "outputs": [],
      "source": [
        "\n",
        "\n",
        "# Pilih user_id secara acak dari dataset rating\n",
        "user_id = rating['User_id'].sample(1).iloc[0]\n",
        "\n",
        "# Ambil data buku yang sudah dibaca oleh user\n",
        "book_read = rating[rating.User_id == user_id]\n",
        "\n",
        "# Dapatkan daftar buku yang belum dibaca oleh user\n",
        "book_not_read = rating[~rating['Id'].isin(book_read.Id.values)]['Id']\n",
        "book_not_read = list(\n",
        "    set(book_not_read).intersection(set(book2book_encoded.keys()))\n",
        ")\n",
        "\n",
        "# Encode daftar buku yang belum dibaca\n",
        "book_not_read = [\n",
        "    [book2book_encoded.get(x)] for x in book_not_read\n",
        "]\n",
        "\n",
        "# Encode user_id\n",
        "user_encoder = user2user_encoded.get(user_id)\n",
        "\n",
        "# Buat array input (user, book)\n",
        "user_book_array = np.hstack(\n",
        "    ([[user_encoder]] * len(book_not_read), book_not_read)\n",
        ")\n",
        "\n",
        "# Prediksi rating menggunakan model\n",
        "ratings = model.predict(user_book_array).flatten()\n",
        "\n",
        "## Ambil indeks dengan prediksi tertinggi\n",
        "top_ratings_indices = ratings.argsort()[-10:][::-1]\n",
        "\n",
        "# Konversi kembali ke book_id berdasarkan hasil prediksi\n",
        "recommended_book_ids = [\n",
        "    book_encoded2book.get(book_not_read[x][0]) for x in top_ratings_indices\n",
        "]\n",
        "# Pastikan hanya ada 10 buku tanpa duplikat\n",
        "recommended_book_ids = list(set(recommended_book_ids))[:10]\n",
        "\n",
        "# Tampilkan hasil\n",
        "print(\"Showing recommendations for user: {}\".format(user_id))\n",
        "print(\"====\" * 9)\n",
        "print(\"Books with high ratings from user\")\n",
        "print(\"----\" * 8)\n",
        "\n",
        "# Buku yang memiliki skor tinggi dari user\n",
        "top_books_user = (\n",
        "    book_read.sort_values(by=\"review/score\", ascending=False)\n",
        "    .head(5)\n",
        "    .Id.values\n",
        ")\n",
        "\n",
        "# Tampilkan judul buku yang sudah dibaca\n",
        "seen_titles = set()  # Set untuk melacak buku yang sudah ditampilkan\n",
        "for row in book_read[book_read[\"Id\"].isin(top_books_user)].itertuples():\n",
        "    if row.Title not in seen_titles:  # Hanya tampilkan jika belum pernah ditampilkan\n",
        "        print(row.Title)\n",
        "        seen_titles.add(row.Title)\n",
        "\n",
        "print(\"-----\" * 8)\n",
        "print(\"Top 10 books recommendation\")\n",
        "print(\"-----\" * 8)\n",
        "\n",
        "# Tampilkan judul dari rekomendasi\n",
        "recommended_books = (\n",
        "    rating[rating[\"Id\"].isin(recommended_book_ids)]\n",
        "    .drop_duplicates(subset=[\"Id\"])  # Hilangkan duplikasi berdasarkan Id\n",
        ")\n",
        "for row in recommended_books.itertuples():\n",
        "    if row.Title not in seen_titles:  # Hanya tampilkan jika belum pernah ditampilkan\n",
        "        print(row.Title)\n",
        "        seen_titles.add(row.Title)\n"
      ]
    },
    {
      "cell_type": "markdown",
      "metadata": {
        "id": "ySKdmzeGT6rC"
      },
      "source": []
    }
  ],
  "metadata": {
    "accelerator": "TPU",
    "colab": {
      "collapsed_sections": [
        "gfh3OKSbaU1R"
      ],
      "gpuType": "V28",
      "provenance": []
    },
    "kernelspec": {
      "display_name": "Python 3",
      "name": "python3"
    },
    "language_info": {
      "name": "python"
    }
  },
  "nbformat": 4,
  "nbformat_minor": 0
}